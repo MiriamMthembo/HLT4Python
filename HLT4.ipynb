{
 "cells": [
  {
   "cell_type": "code",
   "execution_count": 1,
   "metadata": {},
   "outputs": [],
   "source": [
    "with open(\"Numbers.txt\", \"w\") as mf:\n",
    "    mf.write(\"3, 45, 83, 21\")\n",
    "    mf.write(\"\\n\")  \n",
    "  "
   ]
  },
  {
   "cell_type": "code",
   "execution_count": 2,
   "metadata": {},
   "outputs": [],
   "source": [
    "with open(\"Numbers.txt\", \"a\") as mf:\n",
    "    mf.write(\"3, 45, 83, 21\")\n",
    "    "
   ]
  },
  {
   "cell_type": "code",
   "execution_count": 3,
   "metadata": {},
   "outputs": [
    {
     "name": "stdout",
     "output_type": "stream",
     "text": [
      "3, 45, 83, 21\n",
      "3, 45, 83, 21\n"
     ]
    }
   ],
   "source": [
    "with open(\"Numbers.txt\", \"r\") as mf:\n",
    "   x = mf.read()\n",
    "   print(x)\n",
    "   "
   ]
  },
  {
   "cell_type": "code",
   "execution_count": 5,
   "metadata": {},
   "outputs": [
    {
     "name": "stdout",
     "output_type": "stream",
     "text": [
      "You have passed:  54 Grade:C\n"
     ]
    }
   ],
   "source": [
    "score = int(input())\n",
    "if(score >= 70 and score <= 100):\n",
    "    print(\"You have excelled: \", score, \"Grade:A\")\n",
    "elif(score >=60 and  score < 70):\n",
    "    print(\"Welldone: \", score, \"Grade:B\")\n",
    "elif(score >=50 and score < 60):\n",
    "    print(\"You have passed: \", score, \"Grade:C\")\n",
    "else:\n",
    "    print(\"You have failed\")     "
   ]
  },
  {
   "cell_type": "code",
   "execution_count": 15,
   "metadata": {},
   "outputs": [
    {
     "name": "stdout",
     "output_type": "stream",
     "text": [
      "Grade A\n"
     ]
    }
   ],
   "source": [
    "target_grade = int(input())\n",
    "if (target_grade >= 70 and target_grade <= 100):\n",
    "    print(\"Grade A\")\n",
    "elif (target_grade >= 60 and target_grade < 70):\n",
    "    print(\"Grade B\")\n",
    "elif (target_grade >= 50 and target_grade < 60):\n",
    "    print(\"Grade C\")\n",
    "else:\n",
    "    print(\"Grade F\")\n",
    "\n"
   ]
  },
  {
   "cell_type": "code",
   "execution_count": 16,
   "metadata": {},
   "outputs": [
    {
     "name": "stdout",
     "output_type": "stream",
     "text": [
      "You have excelled\n"
     ]
    }
   ],
   "source": [
    "target_grade = input()\n",
    "exam_grade = input()\n",
    "if (target_grade > exam_grade):\n",
    "    print(\"Try again\")\n",
    "elif(target_grade == exam_grade):\n",
    "    print(\"Welldone\")\n",
    "else:\n",
    "    print(\"You have excelled\") \n",
    "\n"
   ]
  },
  {
   "cell_type": "code",
   "execution_count": null,
   "metadata": {},
   "outputs": [],
   "source": []
  }
 ],
 "metadata": {
  "interpreter": {
   "hash": "a279d75de1c7fb928deda8b1d3281825c2cb9115f57e6cac24c2c042a4ba9ce4"
  },
  "kernelspec": {
   "display_name": "Python 3.10.2 64-bit",
   "language": "python",
   "name": "python3"
  },
  "language_info": {
   "codemirror_mode": {
    "name": "ipython",
    "version": 3
   },
   "file_extension": ".py",
   "mimetype": "text/x-python",
   "name": "python",
   "nbconvert_exporter": "python",
   "pygments_lexer": "ipython3",
   "version": "3.10.2"
  },
  "orig_nbformat": 4
 },
 "nbformat": 4,
 "nbformat_minor": 2
}
